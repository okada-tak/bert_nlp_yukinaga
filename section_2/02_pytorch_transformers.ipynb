{
  "nbformat": 4,
  "nbformat_minor": 0,
  "metadata": {
    "colab": {
      "name": "02_pytorch_transformers.ipynb",
      "provenance": [],
      "collapsed_sections": [],
      "authorship_tag": "ABX9TyNt85hyfPZmH5WkNazP96t9",
      "include_colab_link": true
    },
    "kernelspec": {
      "name": "python3",
      "display_name": "Python 3"
    }
  },
  "cells": [
    {
      "cell_type": "markdown",
      "metadata": {
        "id": "view-in-github",
        "colab_type": "text"
      },
      "source": [
        "<a href=\"https://colab.research.google.com/github/yukinaga/bert_nlp/blob/main/section_2/02_pytorch_transformers.ipynb\" target=\"_parent\"><img src=\"https://colab.research.google.com/assets/colab-badge.svg\" alt=\"Open In Colab\"/></a>"
      ]
    },
    {
      "cell_type": "markdown",
      "metadata": {
        "id": "KcHOX9LyZc2g"
      },
      "source": [
        "# PyTorch-Transformers\n",
        "BERTの実装へ向けて、自然言語処理ライブラリPyTorch-Transformersを学びます。  \n",
        "PyTorch-Transformersは以下の基本クラスを中心に構成されます。\n",
        "* BertModel\n",
        "* BertConfig\n",
        "* BertTokenizer"
      ]
    },
    {
      "cell_type": "markdown",
      "metadata": {
        "id": "L_Ozfz3NhltP"
      },
      "source": [
        "## ライブラリのインストール\n",
        "PyTorch-Transformers、および必要なライブラリのインストールを行います。"
      ]
    },
    {
      "cell_type": "code",
      "metadata": {
        "id": "Y_mDYVlb-sqi"
      },
      "source": [
        "!pip install folium==0.2.1\n",
        "!pip install urllib3==1.25.11\n",
        "!pip install pytorch-transformers==1.2.0"
      ],
      "execution_count": null,
      "outputs": []
    },
    {
      "cell_type": "markdown",
      "metadata": {
        "id": "nMfvi2uVkItT"
      },
      "source": [
        "## PyTorch-Transformersのモデル\n",
        "PyTorch-Transformersには、様々な訓練済みのモデルを扱うクラスが用意されています。  \n",
        "以下のコードでは、文章の一部をMaskする問題、`BertForMaskedLM`のモデルを設定します。  \n",
        "https://huggingface.co/transformers/model_doc/bert.html#bertformaskedlm  \n",
        "  \n",
        "BertForMaskedLMはベースとなるモデル、`PreTrainedModel`を継承しています。  \n",
        "https://huggingface.co/transformers/main_classes/model.html#transformers.PreTrainedModel  \n",
        "  \n",
        "また、`BertForMaskedLM`は`nn.Module `クラスを継承しているので、通常のPyTorchのモデルとして使用することができます。"
      ]
    },
    {
      "cell_type": "code",
      "metadata": {
        "id": "E9Hv5L2HGDmI"
      },
      "source": [
        "import torch\n",
        "from pytorch_transformers import BertForMaskedLM\n",
        "\n",
        "msk_model = BertForMaskedLM.from_pretrained('bert-base-uncased')  # 訓練済みパラメータの読み込み\n",
        "print(msk_model)"
      ],
      "execution_count": null,
      "outputs": []
    },
    {
      "cell_type": "markdown",
      "metadata": {
        "id": "n3V7quRwp1jn"
      },
      "source": [
        "最終的に、単語の数である30522クラスに分類する問題であることが分かります。  \n",
        "\n",
        "同様に、文章を分類する問題、`BertForSequenceClassification`のモデルを設定します。  \n",
        "https://huggingface.co/transformers/model_doc/bert.**html**#bertforsequenceclassification  "
      ]
    },
    {
      "cell_type": "code",
      "metadata": {
        "id": "7VBwLQZBJyEh"
      },
      "source": [
        "from pytorch_transformers import BertForSequenceClassification\n",
        "\n",
        "sc_model = BertForSequenceClassification.from_pretrained('bert-base-uncased')  # 訓練済みパラメータの読み込み\n",
        "print(sc_model)"
      ],
      "execution_count": null,
      "outputs": []
    },
    {
      "cell_type": "markdown",
      "metadata": {
        "id": "c8k0H8AgshmY"
      },
      "source": [
        "`out_features=2`なので、文章を2クラスに分類する問題であることが分かります。"
      ]
    },
    {
      "cell_type": "markdown",
      "metadata": {
        "id": "rMlz4gJQucPB"
      },
      "source": [
        "# BERTの設定\n",
        "`BertConfig`クラスを使って、モデルの設定を行うことができます。  "
      ]
    },
    {
      "cell_type": "code",
      "metadata": {
        "id": "F54bOxW6uGBX"
      },
      "source": [
        "from pytorch_transformers import BertConfig\n",
        "\n",
        "config = BertConfig.from_pretrained(\"bert-base-uncased\")\n",
        "print(config) "
      ],
      "execution_count": null,
      "outputs": []
    },
    {
      "cell_type": "markdown",
      "metadata": {
        "id": "nMQKVuZyv-sC"
      },
      "source": [
        "## Tokenizer\n",
        "`BertTokenizer`クラスを使って、訓練済みのデータに基づく形態素解析を行うことができます。"
      ]
    },
    {
      "cell_type": "code",
      "metadata": {
        "id": "zspnwnNHxIEz"
      },
      "source": [
        "from pytorch_transformers import BertTokenizer\n",
        "\n",
        "text = \"I have a pen. I have an apple.\"\n",
        "\n",
        "tokenizer = BertTokenizer.from_pretrained(\"bert-base-uncased\")\n",
        "words = tokenizer.tokenize(text)\n",
        "print(words)"
      ],
      "execution_count": null,
      "outputs": []
    }
  ]
}