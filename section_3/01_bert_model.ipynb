{
  "nbformat": 4,
  "nbformat_minor": 0,
  "metadata": {
    "colab": {
      "name": "01_bert_model.ipynb",
      "provenance": [],
      "collapsed_sections": [],
      "authorship_tag": "ABX9TyP5YsuyBErivB7QlJcE8Oxe",
      "include_colab_link": true
    },
    "kernelspec": {
      "name": "python3",
      "display_name": "Python 3"
    }
  },
  "cells": [
    {
      "cell_type": "markdown",
      "metadata": {
        "id": "view-in-github",
        "colab_type": "text"
      },
      "source": [
        "<a href=\"https://colab.research.google.com/github/yukinaga/bert_nlp/blob/main/section_3/01_bert_model.ipynb\" target=\"_parent\"><img src=\"https://colab.research.google.com/assets/colab-badge.svg\" alt=\"Open In Colab\"/></a>"
      ]
    },
    {
      "cell_type": "markdown",
      "metadata": {
        "id": "KcHOX9LyZc2g"
      },
      "source": [
        "# BERTのモデル\n",
        "自然言語処理ライブラリPyTorch-Transformersを使って、BERTのモデルの実装を見ていきます。"
      ]
    },
    {
      "cell_type": "markdown",
      "metadata": {
        "id": "L_Ozfz3NhltP"
      },
      "source": [
        "## ライブラリのインストール\n",
        "PyTorch-Transformers、および必要なライブラリのインストールを行います。"
      ]
    },
    {
      "cell_type": "code",
      "metadata": {
        "id": "Y_mDYVlb-sqi"
      },
      "source": [
        "!pip install folium==0.2.1\n",
        "!pip install urllib3==1.25.11\n",
        "!pip install pytorch-transformers==1.2.0"
      ],
      "execution_count": null,
      "outputs": []
    },
    {
      "cell_type": "markdown",
      "metadata": {
        "id": "nMfvi2uVkItT"
      },
      "source": [
        "## BERTのモデル\n",
        "PyTorch-Transformersには、様々な訓練済みのモデルを扱うクラスが用意されています。  \n",
        "今回は、最も基本的なモデルである`BertModel`の中身を確認します。"
      ]
    },
    {
      "cell_type": "code",
      "metadata": {
        "id": "E9Hv5L2HGDmI"
      },
      "source": [
        "import torch\n",
        "from pytorch_transformers import BertModel\n",
        "\n",
        "bert_model = BertModel.from_pretrained('bert-base-uncased')  # 訓練済みパラメータの読み込み\n",
        "print(bert_model)"
      ],
      "execution_count": null,
      "outputs": []
    },
    {
      "cell_type": "markdown",
      "metadata": {
        "id": "rMlz4gJQucPB"
      },
      "source": [
        "# BERTの設定\n",
        "`BertConfig`クラスを使って、モデルの設定を確認しましょう。"
      ]
    },
    {
      "cell_type": "code",
      "metadata": {
        "id": "F54bOxW6uGBX"
      },
      "source": [
        "from pytorch_transformers import BertConfig\n",
        "\n",
        "config = BertConfig.from_pretrained(\"bert-base-uncased\")\n",
        "print(config) "
      ],
      "execution_count": null,
      "outputs": []
    }
  ]
}